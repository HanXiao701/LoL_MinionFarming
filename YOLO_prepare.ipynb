{
 "cells": [
  {
   "cell_type": "code",
   "execution_count": 4,
   "metadata": {},
   "outputs": [],
   "source": [
    "import os\n",
    "from sklearn.model_selection import train_test_split\n",
    "import shutil\n",
    "\n",
    "OUTPUT_DIR = 'yolo_dataset/raw/'\n",
    "\n",
    "def prepare_yolo_dataset():\n",
    "    # Create train/val directories\n",
    "    for split in ['train', 'val']:\n",
    "        os.makedirs(f\"yolo_dataset/{split}/images\", exist_ok=True)\n",
    "        os.makedirs(f\"yolo_dataset/{split}/labels\", exist_ok=True)\n",
    "\n",
    "    # Collect all skill images\n",
    "    all_files = []\n",
    "    for skill in ['Q', 'W', 'E', 'R']:\n",
    "        skill_dir = os.path.join(OUTPUT_DIR, f\"{skill.lower()}_cd\")\n",
    "        files = [f for f in os.listdir(skill_dir) if f.endswith('.jpg')]\n",
    "        all_files.extend([(os.path.join(skill_dir, f), skill) for f in files])\n",
    "\n",
    "    # Split dataset\n",
    "    train_files, val_files = train_test_split(all_files, test_size=0.2, random_state=42)\n",
    "\n",
    "    # Copy files to YOLO format\n",
    "    for files, split in [(train_files, 'train'), (val_files, 'val')]:\n",
    "        for img_path, skill in files:\n",
    "            # Copy image\n",
    "            dst_img = os.path.join(f\"yolo_dataset/{split}/images\", os.path.basename(img_path))\n",
    "            shutil.copy(img_path, dst_img)\n",
    "            \n",
    "            # Copy label\n",
    "            label_path = img_path.replace('.jpg', '.txt')\n",
    "            if os.path.exists(label_path):\n",
    "                dst_label = os.path.join(f\"yolo_dataset/{split}/labels\", os.path.basename(label_path))\n",
    "                shutil.copy(label_path, dst_label)\n",
    "\n",
    "    # Create dataset.yaml\n",
    "    with open(\"yolo_dataset/dataset.yaml\", 'w') as f:\n",
    "        f.write(\"\"\"path: ../yolo_dataset\n",
    "train: train/images\n",
    "val: val/images\n",
    "\n",
    "names:\n",
    "  0: cooldown_digit\n",
    "\"\"\")\n",
    "\n",
    "prepare_yolo_dataset()"
   ]
  }
 ],
 "metadata": {
  "kernelspec": {
   "display_name": "lol_analysis",
   "language": "python",
   "name": "python3"
  },
  "language_info": {
   "codemirror_mode": {
    "name": "ipython",
    "version": 3
   },
   "file_extension": ".py",
   "mimetype": "text/x-python",
   "name": "python",
   "nbconvert_exporter": "python",
   "pygments_lexer": "ipython3",
   "version": "3.11.11"
  }
 },
 "nbformat": 4,
 "nbformat_minor": 2
}
