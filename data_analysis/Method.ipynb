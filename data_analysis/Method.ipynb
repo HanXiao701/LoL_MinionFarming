{
 "cells": [
  {
   "cell_type": "markdown",
   "id": "cb58b1e2",
   "metadata": {},
   "source": [
    "# Data analysis for method section"
   ]
  },
  {
   "cell_type": "code",
   "execution_count": 1,
   "id": "c87b5c71",
   "metadata": {},
   "outputs": [],
   "source": [
    "import pandas as pd\n",
    "import numpy as np\n",
    "import os"
   ]
  },
  {
   "cell_type": "code",
   "execution_count": 5,
   "id": "9c47e5d0",
   "metadata": {},
   "outputs": [],
   "source": [
    "# Define file paths for each rank\n",
    "file_path = \"data/riot_API/\"\n",
    "rank_paths = {\n",
    "    \"IRON\": os.path.join(file_path, \"matchup_data_IRON.csv\"),\n",
    "    \"BRONZE\": os.path.join(file_path, \"matchup_data_BRONZE.csv\"),\n",
    "    \"SILVER\": os.path.join(file_path, \"matchup_data_SILVER.csv\"),\n",
    "    \"GOLD\": os.path.join(file_path, \"matchup_data_GOLD.csv\"),\n",
    "    \"PLATINUM\": os.path.join(file_path, \"matchup_data_PLATINUM.csv\"),\n",
    "    \"EMERALD\": os.path.join(file_path, \"matchup_data_EMERALD.csv\"),\n",
    "    \"DIAMOND\": os.path.join(file_path, \"matchup_data_DIMOND.csv\")\n",
    "}\n",
    "\n",
    "# Load data into a dictionary of DataFrames\n",
    "riot_df = {tier: pd.read_csv(path) for tier, path in rank_paths.items()}\n",
    "\n",
    "# Combine all ranks into one unified DataFrame\n",
    "combined_df = pd.concat(riot_df.values(), ignore_index=True)"
   ]
  },
  {
   "cell_type": "code",
   "execution_count": 11,
   "id": "e0b98834",
   "metadata": {},
   "outputs": [
    {
     "name": "stdout",
     "output_type": "stream",
     "text": [
      "Balanced Win Rates (%): 35.4\n",
      "Avg CS Difference at 10min: 13.85\n",
      "Gold Equilibrium at 10min (<400g, %): 73.7\n",
      "Avg Full-Game Gold Difference: 2678.02\n"
     ]
    }
   ],
   "source": [
    "# --- Balanced Win Rate ---\n",
    "matchup_groups = combined_df.groupby(['player_champion', 'opponent_champion'])\n",
    "\n",
    "balanced_count = 0\n",
    "total_matchups = 0\n",
    "\n",
    "for _, group in matchup_groups:\n",
    "    if len(group) < 10:\n",
    "        continue\n",
    "    win_rate = group['win'].mean()\n",
    "    if 0.45 <= win_rate <= 0.55:\n",
    "        balanced_count += 1\n",
    "    total_matchups += 1\n",
    "\n",
    "balanced_win_rate_pct = (balanced_count / total_matchups) * 100 if total_matchups else 0\n",
    "\n",
    "# --- CS-Based Metrics ---\n",
    "cs_diff = abs(combined_df['first_10_min_cs'] - combined_df['opponent_first_10_min_cs'])\n",
    "avg_cs_diff = cs_diff.mean()\n",
    "\n",
    "# --- Estimated Gold Difference at 10min ---\n",
    "estimated_gold_diff = cs_diff * 20  # 20 gold per minion\n",
    "gold_equilibrium_pct = (estimated_gold_diff < 400).mean() * 100\n",
    "\n",
    "# --- Full Game Gold Difference ---\n",
    "full_game_gold_diff = combined_df['gold_diff'].abs()\n",
    "avg_full_gold_diff = full_game_gold_diff.mean()\n",
    "\n",
    "# --- Final Summary ---\n",
    "summary = {\n",
    "    \"Balanced Win Rates (%)\": round(balanced_win_rate_pct, 1),\n",
    "    \"Avg CS Difference at 10min\": round(avg_cs_diff, 2),\n",
    "    \"Gold Equilibrium at 10min (<400g, %)\": round(gold_equilibrium_pct, 1),\n",
    "    \"Avg Full-Game Gold Difference\": round(avg_full_gold_diff, 2)\n",
    "}\n",
    "\n",
    "for key, value in summary.items():\n",
    "    print(f\"{key}: {value}\")"
   ]
  },
  {
   "cell_type": "code",
   "execution_count": 13,
   "id": "cfba4dec",
   "metadata": {},
   "outputs": [
    {
     "name": "stdout",
     "output_type": "stream",
     "text": [
      "    Champion A  Champion B  Matches Win Rate  CS@10  Gold Diff  CS/min\n",
      "0        Garen      Kennen       11    45.5%   57.4        950    6.32\n",
      "1        Garen       Teemo       44    50.0%   55.2        405    6.19\n",
      "2        Garen  Tryndamere       30    56.7%   61.1       -857    6.70\n",
      "3       Kennen       Garen       11    54.5%   63.3       -950    6.13\n",
      "4       Kennen       Teemo        7    57.1%   66.6       -115    6.62\n",
      "5       Kennen  Tryndamere        2    50.0%   65.0      -2741    5.67\n",
      "6        Teemo       Garen       44    50.0%   64.9       -405    6.21\n",
      "7        Teemo      Kennen        7    42.9%   68.3        115    6.39\n",
      "8        Teemo  Tryndamere       14    50.0%   53.2      -1351    5.68\n",
      "9   Tryndamere       Garen       30    43.3%   69.9        857    7.29\n",
      "10  Tryndamere      Kennen        2    50.0%   74.0       2741    8.35\n",
      "11  Tryndamere       Teemo       14    50.0%   57.9       1351    6.35\n",
      "\n",
      "LaTeX Format:\n",
      "\n",
      "\\begin{table}\n",
      "\\caption{Matchup statistics for Garen, Teemo, Kennen, and Tryndamere}\n",
      "\\label{tab:matchup_results}\n",
      "\\begin{tabular}{llrlrrr}\n",
      "\\toprule\n",
      "Champion A & Champion B & Matches & Win Rate & CS@10 & Gold Diff & CS/min \\\\\n",
      "\\midrule\n",
      "Garen & Kennen & 11 & 45.5% & 57.400000 & 950 & 6.320000 \\\\\n",
      "Garen & Teemo & 44 & 50.0% & 55.200000 & 405 & 6.190000 \\\\\n",
      "Garen & Tryndamere & 30 & 56.7% & 61.100000 & -857 & 6.700000 \\\\\n",
      "Kennen & Garen & 11 & 54.5% & 63.300000 & -950 & 6.130000 \\\\\n",
      "Kennen & Teemo & 7 & 57.1% & 66.600000 & -115 & 6.620000 \\\\\n",
      "Kennen & Tryndamere & 2 & 50.0% & 65.000000 & -2741 & 5.670000 \\\\\n",
      "Teemo & Garen & 44 & 50.0% & 64.900000 & -405 & 6.210000 \\\\\n",
      "Teemo & Kennen & 7 & 42.9% & 68.300000 & 115 & 6.390000 \\\\\n",
      "Teemo & Tryndamere & 14 & 50.0% & 53.200000 & -1351 & 5.680000 \\\\\n",
      "Tryndamere & Garen & 30 & 43.3% & 69.900000 & 857 & 7.290000 \\\\\n",
      "Tryndamere & Kennen & 2 & 50.0% & 74.000000 & 2741 & 8.350000 \\\\\n",
      "Tryndamere & Teemo & 14 & 50.0% & 57.900000 & 1351 & 6.350000 \\\\\n",
      "\\bottomrule\n",
      "\\end{tabular}\n",
      "\\end{table}\n",
      "\n"
     ]
    }
   ],
   "source": [
    "# List of target champions\n",
    "champion_pool = [\"Garen\", \"Teemo\", \"Kennen\", \"Tryndamere\"]\n",
    "\n",
    "# Combine all tier data\n",
    "combined_df = pd.concat(riot_df.values(), ignore_index=True)\n",
    "\n",
    "# Filter relevant matchups\n",
    "filtered = combined_df[\n",
    "    (combined_df['player_champion'].isin(champion_pool)) &\n",
    "    (combined_df['opponent_champion'].isin(champion_pool))\n",
    "]\n",
    "\n",
    "# Group by matchup pair\n",
    "matchup_groups = filtered.groupby(['player_champion', 'opponent_champion'])\n",
    "\n",
    "# Summarize each matchup\n",
    "rows = []\n",
    "for (champ_a, champ_b), group in matchup_groups:\n",
    "    matches = len(group)\n",
    "    win_rate = group['win'].mean() * 100\n",
    "    avg_cs10 = group['first_10_min_cs'].mean()\n",
    "    avg_gold_diff = group['gold_diff'].mean()\n",
    "    avg_cs_min = group['cs_per_min'].mean() if 'cs_per_min' in group.columns else avg_cs10 / 10\n",
    "\n",
    "    rows.append({\n",
    "        \"Champion A\": champ_a,\n",
    "        \"Champion B\": champ_b,\n",
    "        \"Matches\": matches,\n",
    "        \"Win Rate\": f\"{win_rate:.1f}%\",\n",
    "        \"CS@10\": round(avg_cs10, 1),\n",
    "        \"Gold Diff\": round(avg_gold_diff),\n",
    "        \"CS/min\": round(avg_cs_min, 2)\n",
    "    })\n",
    "\n",
    "# Create and print DataFrame\n",
    "matchup_summary_df = pd.DataFrame(rows)\n",
    "print(matchup_summary_df)\n",
    "\n",
    "# Optional: export LaTeX\n",
    "print(\"\\nLaTeX Format:\\n\")\n",
    "print(matchup_summary_df.to_latex(index=False, caption=\"Matchup statistics for Garen, Teemo, Kennen, and Tryndamere\", label=\"tab:matchup_results\"))\n"
   ]
  }
 ],
 "metadata": {
  "kernelspec": {
   "display_name": "lol_analysis",
   "language": "python",
   "name": "python3"
  },
  "language_info": {
   "codemirror_mode": {
    "name": "ipython",
    "version": 3
   },
   "file_extension": ".py",
   "mimetype": "text/x-python",
   "name": "python",
   "nbconvert_exporter": "python",
   "pygments_lexer": "ipython3",
   "version": "3.11.11"
  }
 },
 "nbformat": 4,
 "nbformat_minor": 5
}
